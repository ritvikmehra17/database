{
 "cells": [
  {
   "cell_type": "code",
   "execution_count": 1,
   "metadata": {},
   "outputs": [],
   "source": [
    "from database import Database"
   ]
  },
  {
   "cell_type": "code",
   "execution_count": 2,
   "metadata": {},
   "outputs": [],
   "source": [
    "db=Database()"
   ]
  },
  {
   "cell_type": "code",
   "execution_count": 3,
   "metadata": {},
   "outputs": [
    {
     "name": "stdout",
     "output_type": "stream",
     "text": [
      "table products already exists\n"
     ]
    },
    {
     "data": {
      "text/plain": [
       "False"
      ]
     },
     "execution_count": 3,
     "metadata": {},
     "output_type": "execute_result"
    }
   ],
   "source": [
    "db.create_product_table()"
   ]
  },
  {
   "cell_type": "code",
   "execution_count": 4,
   "metadata": {},
   "outputs": [
    {
     "name": "stdout",
     "output_type": "stream",
     "text": [
      "UNIQUE constraint failed: products.name\n"
     ]
    },
    {
     "data": {
      "text/plain": [
       "False"
      ]
     },
     "execution_count": 4,
     "metadata": {},
     "output_type": "execute_result"
    }
   ],
   "source": [
    "db.add('Nescafe Coffee',180,5)"
   ]
  },
  {
   "cell_type": "code",
   "execution_count": 5,
   "metadata": {},
   "outputs": [
    {
     "name": "stdout",
     "output_type": "stream",
     "text": [
      "UNIQUE constraint failed: products.name\n",
      "UNIQUE constraint failed: products.name\n",
      "UNIQUE constraint failed: products.name\n"
     ]
    },
    {
     "data": {
      "text/plain": [
       "False"
      ]
     },
     "execution_count": 5,
     "metadata": {},
     "output_type": "execute_result"
    }
   ],
   "source": [
    "db.add(\"Uncle Chips\",20,50)\n",
    "db.add(\"Lays\",20,100)\n",
    "db.add(\"Hide and Seek\",35,20)"
   ]
  },
  {
   "cell_type": "code",
   "execution_count": 9,
   "metadata": {},
   "outputs": [
    {
     "name": "stdout",
     "output_type": "stream",
     "text": [
      "UNIQUE constraint failed: products.name\n",
      "UNIQUE constraint failed: products.name\n",
      "UNIQUE constraint failed: products.name\n",
      "UNIQUE constraint failed: products.name\n",
      "UNIQUE constraint failed: products.name\n",
      "UNIQUE constraint failed: products.name\n",
      "UNIQUE constraint failed: products.name\n",
      "UNIQUE constraint failed: products.name\n",
      "UNIQUE constraint failed: products.name\n",
      "UNIQUE constraint failed: products.name\n",
      "UNIQUE constraint failed: products.name\n"
     ]
    },
    {
     "data": {
      "text/plain": [
       "False"
      ]
     },
     "execution_count": 9,
     "metadata": {},
     "output_type": "execute_result"
    }
   ],
   "source": [
    "db.add(\"Burbone\",25,10)\n",
    "db.add(\"Pepsi\",45,15)\n",
    "db.add(\"Coke\",45,7)\n",
    "db.add(\"Bhujiya\",44,15)\n",
    "db.add(\"cadbery\",10,100)\n",
    "db.add(\"Maggi\",20,35)\n",
    "db.add(\"Amul Milk\",26,25)\n",
    "db.add(\"Ghee\",220,9)\n",
    "db.add(\"Amul Cheese\",100,6)\n",
    "db.add(\"Sugar cube\",155,6)\n",
    "db.add(\"water bottle\",20,30)"
   ]
  },
  {
   "cell_type": "code",
   "execution_count": 22,
   "metadata": {},
   "outputs": [],
   "source": [
    "result=db.viewAll()"
   ]
  },
  {
   "cell_type": "code",
   "execution_count": 23,
   "metadata": {},
   "outputs": [
    {
     "name": "stdout",
     "output_type": "stream",
     "text": [
      "1\tNescafe Coffee\t180\t5\n",
      "2\tUncle Chips\t50\t2\n",
      "3\tLays\t20\t100\n",
      "4\tHide and Seek\t35\t20\n",
      "5\tBurbone\t25\t10\n",
      "6\tPepsi\t45\t15\n",
      "7\tCoke\t45\t7\n",
      "8\tBhujiya\t44\t15\n",
      "10\tMaggi\t20\t35\n",
      "11\tAmul Milk\t26\t25\n",
      "12\tGhee\t220\t9\n",
      "13\tAmul Cheese\t100\t6\n",
      "14\tSugar cube\t155\t6\n",
      "15\twater bottle\t20\t30\n"
     ]
    }
   ],
   "source": [
    "for record in result:\n",
    "    print(\"\\t\".join([str(i) for i in record]))"
   ]
  },
  {
   "cell_type": "code",
   "execution_count": 24,
   "metadata": {},
   "outputs": [
    {
     "data": {
      "text/plain": [
       "True"
      ]
     },
     "execution_count": 24,
     "metadata": {},
     "output_type": "execute_result"
    }
   ],
   "source": [
    "db.run(\"delete from products where id=9\")"
   ]
  },
  {
   "cell_type": "code",
   "execution_count": 26,
   "metadata": {},
   "outputs": [
    {
     "data": {
      "text/plain": [
       "[(1, 'Nescafe Coffee', 180, 5),\n",
       " (2, 'Uncle Chips', 50, 2),\n",
       " (3, 'Lays', 20, 100),\n",
       " (4, 'Hide and Seek', 35, 20),\n",
       " (5, 'Burbone', 25, 10),\n",
       " (6, 'Pepsi', 45, 15),\n",
       " (7, 'Coke', 45, 7),\n",
       " (8, 'Bhujiya', 44, 15),\n",
       " (10, 'Maggi', 20, 35),\n",
       " (11, 'Amul Milk', 26, 25),\n",
       " (12, 'Ghee', 220, 9),\n",
       " (13, 'Amul Cheese', 100, 6),\n",
       " (14, 'Sugar cube', 155, 6),\n",
       " (15, 'water bottle', 20, 30)]"
      ]
     },
     "execution_count": 26,
     "metadata": {},
     "output_type": "execute_result"
    }
   ],
   "source": [
    "db.viewAll()"
   ]
  },
  {
   "cell_type": "code",
   "execution_count": null,
   "metadata": {},
   "outputs": [],
   "source": []
  }
 ],
 "metadata": {
  "kernelspec": {
   "display_name": "Python 3",
   "language": "python",
   "name": "python3"
  },
  "language_info": {
   "codemirror_mode": {
    "name": "ipython",
    "version": 3
   },
   "file_extension": ".py",
   "mimetype": "text/x-python",
   "name": "python",
   "nbconvert_exporter": "python",
   "pygments_lexer": "ipython3",
   "version": "3.7.0"
  }
 },
 "nbformat": 4,
 "nbformat_minor": 2
}
